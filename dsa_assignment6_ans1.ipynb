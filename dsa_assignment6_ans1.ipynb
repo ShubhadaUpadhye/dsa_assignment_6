{
 "cells": [
  {
   "cell_type": "code",
   "execution_count": null,
   "metadata": {},
   "outputs": [],
   "source": [
    "## ans_1)\n",
    "\n",
    "s = \"IDIDIDID\"\n",
    "output=[]\n",
    "n=len(s)\n",
    "i=0\n",
    "low,high=0,n\n",
    "while i<len(s):\n",
    "    if s[i]=='I':\n",
    "        output.append(low)\n",
    "        low=low+1\n",
    "    elif s[i]=='D':\n",
    "        output.append(high)\n",
    "        high=high-1\n",
    "    i=i+1\n",
    "else:\n",
    "    output.append(high)\n",
    "print(output)\n",
    "\n",
    "## time_complexity is O(n)"
   ]
  }
 ],
 "metadata": {
  "kernelspec": {
   "display_name": "Python 3",
   "language": "python",
   "name": "python3"
  },
  "language_info": {
   "codemirror_mode": {
    "name": "ipython",
    "version": 3
   },
   "file_extension": ".py",
   "mimetype": "text/x-python",
   "name": "python",
   "nbconvert_exporter": "python",
   "pygments_lexer": "ipython3",
   "version": "3.8.5"
  }
 },
 "nbformat": 4,
 "nbformat_minor": 4
}
