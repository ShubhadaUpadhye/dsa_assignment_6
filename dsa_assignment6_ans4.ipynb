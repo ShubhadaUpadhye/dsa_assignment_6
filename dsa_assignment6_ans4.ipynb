{
 "cells": [
  {
   "cell_type": "code",
   "execution_count": null,
   "metadata": {},
   "outputs": [],
   "source": [
    "## ans_4)\n",
    "\n",
    "binary_array = [0, 0, 0, 0, 1, 0, 0]\n",
    "output = []\n",
    "max_len=[]\n",
    "for i in range(len(binary_array)):\n",
    "    output.append(binary_array[i])\n",
    "    if output.count(0) == output.count(1):\n",
    "        max_len.append(len(output))\n",
    "if max_len:\n",
    "    print(max(max_len))\n",
    "else:\n",
    "    print(0)\n",
    "    \n",
    "## time_complexity is O(n^2)"
   ]
  }
 ],
 "metadata": {
  "kernelspec": {
   "display_name": "Python 3",
   "language": "python",
   "name": "python3"
  },
  "language_info": {
   "codemirror_mode": {
    "name": "ipython",
    "version": 3
   },
   "file_extension": ".py",
   "mimetype": "text/x-python",
   "name": "python",
   "nbconvert_exporter": "python",
   "pygments_lexer": "ipython3",
   "version": "3.8.5"
  }
 },
 "nbformat": 4,
 "nbformat_minor": 4
}
