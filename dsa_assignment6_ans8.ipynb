{
 "cells": [
  {
   "cell_type": "code",
   "execution_count": null,
   "metadata": {},
   "outputs": [],
   "source": [
    "## and_8)\n",
    "mat1 = [[1,0,0],[-1,0,3]]\n",
    "mat2 = [[7,0,0],[0,0,0],[0,0,1]]\n",
    "res=[]\n",
    "sum=0\n",
    "k=0\n",
    "for j in range(len(mat2)):\n",
    "    sum=mat2[k][j]+mat2[k+1][j]+mat2[k+2][j]\n",
    "    res.append(sum)\n",
    "    \n",
    "prod=[]\n",
    "i=0\n",
    "while i<len(mat1):\n",
    "    prod.append([(mat1[i][j]*res[j]) for j in range(len(mat1[0]))])\n",
    "    i=i+1\n",
    "print(prod)\n",
    "\n",
    "## time_complexity is O(m*n), where m is the number of rows and n is the number of columns in mat1 and mat2."
   ]
  }
 ],
 "metadata": {
  "kernelspec": {
   "display_name": "Python 3",
   "language": "python",
   "name": "python3"
  },
  "language_info": {
   "codemirror_mode": {
    "name": "ipython",
    "version": 3
   },
   "file_extension": ".py",
   "mimetype": "text/x-python",
   "name": "python",
   "nbconvert_exporter": "python",
   "pygments_lexer": "ipython3",
   "version": "3.8.5"
  }
 },
 "nbformat": 4,
 "nbformat_minor": 4
}
