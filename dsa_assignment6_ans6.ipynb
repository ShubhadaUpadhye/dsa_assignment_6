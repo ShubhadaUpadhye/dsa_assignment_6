{
 "cells": [
  {
   "cell_type": "code",
   "execution_count": null,
   "metadata": {},
   "outputs": [],
   "source": [
    "## ans_6)\n",
    "\n",
    "changed = [1,3,4,5,2,6,8,10]\n",
    "output=[]\n",
    "j=len(changed)//2\n",
    "for i in range(0,len(changed)//2):\n",
    "        if changed[i]*2==changed[j]:\n",
    "            output.append(changed[i])\n",
    "        j=j+1\n",
    "else:\n",
    "    print(output)\n",
    "\n",
    "## time_complexity is O(n)"
   ]
  }
 ],
 "metadata": {
  "kernelspec": {
   "display_name": "Python 3",
   "language": "python",
   "name": "python3"
  },
  "language_info": {
   "codemirror_mode": {
    "name": "ipython",
    "version": 3
   },
   "file_extension": ".py",
   "mimetype": "text/x-python",
   "name": "python",
   "nbconvert_exporter": "python",
   "pygments_lexer": "ipython3",
   "version": "3.8.5"
  }
 },
 "nbformat": 4,
 "nbformat_minor": 4
}
