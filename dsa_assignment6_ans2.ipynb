{
 "cells": [
  {
   "cell_type": "code",
   "execution_count": null,
   "metadata": {},
   "outputs": [],
   "source": [
    "## ans_2)\n",
    "\n",
    "matrix=[[1,3,5,7],[10,11,16,20],[23,30,34,60]]\n",
    "target=25\n",
    "\n",
    "m=len(matrix)\n",
    "n=len(matrix[0])\n",
    "left=0\n",
    "right=m*n-1\n",
    "while left<=right:\n",
    "    mid=(left+right)//2\n",
    "    row=mid//n\n",
    "    col=mid%n\n",
    "    if matrix[row][col]==target:\n",
    "        print(True)\n",
    "        break\n",
    "    elif matrix[row][col]<target:\n",
    "        left=mid+1\n",
    "    else:\n",
    "        right=mid-1\n",
    "else:\n",
    "    print(False)\n",
    "    \n",
    "## time_complexity is O(log(m * n))"
   ]
  }
 ],
 "metadata": {
  "kernelspec": {
   "display_name": "Python 3",
   "language": "python",
   "name": "python3"
  },
  "language_info": {
   "codemirror_mode": {
    "name": "ipython",
    "version": 3
   },
   "file_extension": ".py",
   "mimetype": "text/x-python",
   "name": "python",
   "nbconvert_exporter": "python",
   "pygments_lexer": "ipython3",
   "version": "3.8.5"
  }
 },
 "nbformat": 4,
 "nbformat_minor": 4
}
