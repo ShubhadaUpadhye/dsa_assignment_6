{
 "cells": [
  {
   "cell_type": "code",
   "execution_count": null,
   "metadata": {},
   "outputs": [],
   "source": [
    "## ans_5)\n",
    "\n",
    "nums1 = [5,3,4,2]\n",
    "nums2 = [4,2,2,5]\n",
    "sum=0\n",
    "tot=[]\n",
    "for i in range(len(nums1)):\n",
    "    if i<len(nums1)-1:\n",
    "        for j in range(len(nums1)):\n",
    "            sum=sum+(nums1[j]*nums2[j])\n",
    "        tot.append(sum)\n",
    "        sum=0\n",
    "        nums1[i],nums1[i+1]=nums1[i+1],nums1[i]\n",
    "    else:\n",
    "        nums1[-1], nums1[0] = nums1[-1], nums1[0]\n",
    "        for j in range(len(nums1)):\n",
    "            sum=sum+(nums1[j]*nums2[j])\n",
    "        tot.append(sum)\n",
    "\n",
    "print(min(tot))\n",
    "\n",
    "## time_complexity is O(n^2)"
   ]
  }
 ],
 "metadata": {
  "kernelspec": {
   "display_name": "Python 3",
   "language": "python",
   "name": "python3"
  },
  "language_info": {
   "codemirror_mode": {
    "name": "ipython",
    "version": 3
   },
   "file_extension": ".py",
   "mimetype": "text/x-python",
   "name": "python",
   "nbconvert_exporter": "python",
   "pygments_lexer": "ipython3",
   "version": "3.8.5"
  }
 },
 "nbformat": 4,
 "nbformat_minor": 4
}
