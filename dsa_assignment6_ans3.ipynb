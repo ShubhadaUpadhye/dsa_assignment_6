{
 "cells": [
  {
   "cell_type": "code",
   "execution_count": null,
   "metadata": {},
   "outputs": [],
   "source": [
    "## ans_3)\n",
    "\n",
    "arr=[0,2,3,4,5,2,1,0]\n",
    "i=5\n",
    "a=''\n",
    "b=''\n",
    "if len(arr)>=3:\n",
    "    ind=arr.index(i)\n",
    "    for j in range(ind):\n",
    "        if arr[j]<arr[j+1]<=i:\n",
    "            a=True\n",
    "    for j in range(ind,len(arr)-1):\n",
    "        if i>=arr[ind]>arr[ind+1]:\n",
    "            b=True\n",
    "    if a==True and b==True:\n",
    "        print(True)\n",
    "    else:\n",
    "        print(False)\n",
    "else:\n",
    "    print(False)\n",
    "    \n",
    "## time_complexity is O(n)"
   ]
  }
 ],
 "metadata": {
  "kernelspec": {
   "display_name": "Python 3",
   "language": "python",
   "name": "python3"
  },
  "language_info": {
   "codemirror_mode": {
    "name": "ipython",
    "version": 3
   },
   "file_extension": ".py",
   "mimetype": "text/x-python",
   "name": "python",
   "nbconvert_exporter": "python",
   "pygments_lexer": "ipython3",
   "version": "3.8.5"
  }
 },
 "nbformat": 4,
 "nbformat_minor": 4
}
